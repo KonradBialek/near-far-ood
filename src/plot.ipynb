{
 "cells": [
  {
   "cell_type": "code",
   "execution_count": null,
   "metadata": {},
   "outputs": [],
   "source": [
    "import numpy as np\n",
    "import matplotlib.pyplot as plt\n",
    "from matplotlib.pyplot import figure\n",
    "import pandas as pd"
   ]
  },
  {
   "cell_type": "code",
   "execution_count": null,
   "metadata": {},
   "outputs": [],
   "source": [
    "# color_list = {0: '#1f77b4', 1: '#ff7f0e', 2: '#2ca02c', 3: '#d62728', 4: '#9467bd', 5: '#8c564b', 6: '#e377c2', 7: '#7f7f7f', 8: '#bcbd22', 9: '#17becf', -1: '#000000', -2: '#ff0000', -3: '#000000', -4: '#000000', -5: '#000000'}\n",
    "color_list = {0: 'b', 1: 'b', 2: 'b', 3: 'b', 4: 'b', 5: 'b', 6: 'b', 7: 'b', 8: 'b', 9: 'b', -1: 'g', -2: 'r', -3: 'c', -4: 'm', -5: 'k'}\n",
    "features_dir = '../features/'"
   ]
  },
  {
   "cell_type": "code",
   "execution_count": null,
   "metadata": {},
   "outputs": [],
   "source": [
    "# Plot data with given mask.\n",
    "features = np.load(f'{features_dir}resnet18_cifar10_cifar100_mnist_fashionmnist_svhn_tin_tsne.npz')['features']\n",
    "logits = np.load(f'{features_dir}resnet18_cifar10_cifar100_mnist_fashionmnist_svhn_tin_tsne.npz')['logits']\n",
    "labels = np.load(f'{features_dir}resnet18_cifar10_cifar100_mnist_fashionmnist_svhn_tin_tsne.npz')['labels']\n",
    "mask = (labels >=0) # cifar10\n",
    "\n",
    "figure(figsize=(15,10), dpi=200)\n",
    "plt.scatter(features[:,0][mask], features[:,1][mask], c=pd.Series(labels[mask]).map(color_list), s=10, alpha=0.9)"
   ]
  },
  {
   "cell_type": "code",
   "execution_count": null,
   "metadata": {},
   "outputs": [],
   "source": [
    "\n",
    "figure(figsize=(15,10), dpi=200)\n",
    "plt.scatter(logits[:,0][mask], logits[:,1][mask], c=pd.Series(labels[mask]).map(color_list), s=10, alpha=0.9)"
   ]
  },
  {
   "cell_type": "code",
   "execution_count": null,
   "metadata": {},
   "outputs": [],
   "source": [
    "# Plot histograms of distance of data with given mask.\n",
    "file = f'{features_dir}resnet18_cifar10_cifar100_mnist_fashionmnist_svhn_tin_knn.npz'\n",
    "features = np.load(file)['features']\n",
    "logits = np.load(file)['logits']\n",
    "labels = np.load(file)['labels']\n",
    "datasets = file.split('_')[1:-1]\n",
    "plt.figure(figsize=(30, 3), dpi=200)\n",
    "\n",
    "n_bins = 500\n",
    "\n",
    "figure(figsize=(15,5), dpi=200)\n",
    "\n",
    "for i in range(6):\n",
    "    if i == 0:\n",
    "        mask = (labels >=0) # cifar10\n",
    "        facecolor = color_list[0]\n",
    "    else:\n",
    "        mask = labels == -i\n",
    "        facecolor = color_list[-i]\n",
    "\n",
    "    mean = np.mean(features[mask])\n",
    "    print(mean)\n",
    "    plt.axvline(x=mean, color=facecolor)\n",
    "    plt.hist(features[mask], n_bins, density=True, \n",
    "            weights=np.ones(len(features[mask])) / len(features[mask]), \n",
    "            facecolor=facecolor, alpha=0.9 - 0.1*i, label=datasets[i])\n",
    "\n",
    "plt.legend()"
   ]
  },
  {
   "cell_type": "code",
   "execution_count": null,
   "metadata": {},
   "outputs": [],
   "source": [
    "figure(figsize=(15,5), dpi=200)\n",
    "\n",
    "for i in range(6):\n",
    "    if i == 0:\n",
    "        mask = (labels >=0) # cifar10\n",
    "        facecolor = color_list[0]\n",
    "    else:\n",
    "        mask = labels == -i\n",
    "        facecolor = color_list[-i]\n",
    "\n",
    "    mean = np.mean(logits[mask])\n",
    "    print(mean)\n",
    "    plt.axvline(x=mean, color=facecolor)\n",
    "    plt.hist(logits[mask], n_bins, density=True, \n",
    "            weights=np.ones(len(logits[mask])) / len(logits[mask]), \n",
    "            facecolor=facecolor, alpha=0.9 - 0.1*i, label=datasets[i])\n",
    "\n",
    "plt.legend()"
   ]
  },
  {
   "cell_type": "code",
   "execution_count": null,
   "metadata": {},
   "outputs": [],
   "source": []
  }
 ],
 "metadata": {
  "kernelspec": {
   "display_name": "Python 3 (ipykernel)",
   "language": "python",
   "name": "python3"
  },
  "language_info": {
   "codemirror_mode": {
    "name": "ipython",
    "version": 3
   },
   "file_extension": ".py",
   "mimetype": "text/x-python",
   "name": "python",
   "nbconvert_exporter": "python",
   "pygments_lexer": "ipython3",
   "version": "3.8.10"
  },
  "vscode": {
   "interpreter": {
    "hash": "f4fb05cdd838f445cf6aef1944aad962ac294a3d82898bb62972bc780378e8f5"
   }
  }
 },
 "nbformat": 4,
 "nbformat_minor": 2
}
