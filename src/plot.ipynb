{
 "cells": [
  {
   "cell_type": "code",
   "execution_count": null,
   "metadata": {},
   "outputs": [],
   "source": [
    "import numpy as np\n",
    "import matplotlib.pyplot as plt\n",
    "from matplotlib.pyplot import figure\n",
    "import pandas as pd"
   ]
  },
  {
   "cell_type": "code",
   "execution_count": null,
   "metadata": {},
   "outputs": [],
   "source": [
    "color_list = {0: '#1f77b4', 1: '#ff7f0e', 2: '#2ca02c', 3: '#d62728', 4: '#9467bd', 5: '#8c564b', 6: '#e377c2', 7: '#7f7f7f', 8: '#bcbd22', 9: '#17becf', -1: '#000000', -2: '#ff0000'}\n",
    "features_dir = '../features/'"
   ]
  },
  {
   "cell_type": "code",
   "execution_count": null,
   "metadata": {},
   "outputs": [],
   "source": [
    "# Plot data with given mask.\n",
    "data = np.load(f'{features_dir}resnet18_cifar10_mnist_cifar100_tsne.npz')['data']\n",
    "labels = np.load(f'{features_dir}resnet18_cifar10_mnist_cifar100_tsne.npz')['labels']\n",
    "mask = (labels >=0) # cifar10\n",
    "\n",
    "figure(figsize=(15,10), dpi=200)\n",
    "plt.scatter(data[:,0][mask], data[:,1][mask], c=pd.Series(labels[mask]).map(color_list), s=10, alpha=0.9)"
   ]
  },
  {
   "cell_type": "code",
   "execution_count": null,
   "metadata": {},
   "outputs": [],
   "source": [
    "# Plot histograms of distance of data with given mask.\n",
    "data = np.load(f'{features_dir}resnet18_cifar10_mnist_cifar100_knn.npz')['data']\n",
    "labels = np.load(f'{features_dir}resnet18_cifar10_mnist_cifar100_knn.npz')['labels']\n",
    "\n",
    "plt.figure(figsize=(30, 3), dpi=200)\n",
    "\n",
    "n_bins = 500\n",
    "\n",
    "figure(figsize=(15,5), dpi=200)\n",
    "mask = (labels >=0) # cifar10\n",
    "print(np.mean(data[mask]), 'cifar10')\n",
    "plt.hist(data[mask], n_bins, density=True, \n",
    "         weights=np.ones(len(data[mask])) / len(data[mask]), \n",
    "         facecolor='#000000', alpha=0.9) # black\n",
    "\n",
    "mask = labels == -1 # cifar100\n",
    "print(np.mean(data[mask]), 'cifar100')\n",
    "plt.hist(data[mask], n_bins, density=True, \n",
    "         weights=np.ones(len(data[mask])) / len(data[mask]), \n",
    "         facecolor='#FF0000', alpha=0.8) # red\n",
    "\n",
    "mask = labels == -2 # mnist\n",
    "print(np.mean(data[mask]), 'mnist')\n",
    "plt.hist(data[mask], n_bins, density=True, \n",
    "         weights=np.ones(len(data[mask])) / len(data[mask]), \n",
    "         facecolor='#ff7f0e', alpha=0.7) # orange"
   ]
  },
  {
   "cell_type": "code",
   "execution_count": null,
   "metadata": {},
   "outputs": [],
   "source": []
  },
  {
   "cell_type": "code",
   "execution_count": null,
   "metadata": {},
   "outputs": [],
   "source": []
  }
 ],
 "metadata": {
  "kernelspec": {
   "display_name": "Python 3 (ipykernel)",
   "language": "python",
   "name": "python3"
  },
  "language_info": {
   "codemirror_mode": {
    "name": "ipython",
    "version": 3
   },
   "file_extension": ".py",
   "mimetype": "text/x-python",
   "name": "python",
   "nbconvert_exporter": "python",
   "pygments_lexer": "ipython3",
   "version": "3.8.10"
  },
  "vscode": {
   "interpreter": {
    "hash": "f4fb05cdd838f445cf6aef1944aad962ac294a3d82898bb62972bc780378e8f5"
   }
  }
 },
 "nbformat": 4,
 "nbformat_minor": 2
}
