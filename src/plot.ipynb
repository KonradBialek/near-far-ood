{
 "cells": [
  {
   "cell_type": "code",
   "execution_count": null,
   "metadata": {},
   "outputs": [],
   "source": [
    "import numpy as np\n",
    "import matplotlib.pyplot as plt\n",
    "from matplotlib.pyplot import figure\n",
    "import pandas as pd\n",
    "from sklearn import metrics"
   ]
  },
  {
   "cell_type": "code",
   "execution_count": null,
   "metadata": {},
   "outputs": [],
   "source": [
    "# color_list = {0: '#1f77b4', 1: '#ff7f0e', 2: '#2ca02c', 3: '#d62728', 4: '#9467bd', 5: '#8c564b', 6: '#e377c2', 7: '#7f7f7f', 8: '#bcbd22', 9: '#17becf', -1: '#000000', -2: '#ff0000', -3: '#000000', -4: '#000000', -5: '#000000'}\n",
    "color_list = {0: 'b', 1: 'g', 2: 'r', 3: 'c', 4: 'm', 5: 'k', 6: 'k', 7: 'k', 8: 'k', }\n",
    "plt.set_cmap('Set1')\n",
    "features_dir = '../features/'\n",
    "datasets = ['cifar10', 'cifar100', 'dtd', 'places365', 'svhn', 'tin', 'mnist', 'fashionmnist', 'notmnist']"
   ]
  },
  {
   "cell_type": "code",
   "execution_count": null,
   "metadata": {},
   "outputs": [],
   "source": [
    "# Plot data with given mask.\n",
    "file = 'resnet18_cifar10_cifar100_dtd_svhn_tin_mnist_fashionmnist_notmnist_places365_tsne.npz'\n",
    "features = np.load(f'{features_dir}{file}')['features']\n",
    "logits = np.load(f'{features_dir}{file}')['logits']\n",
    "labels = np.load(f'{features_dir}{file}')['labels']\n",
    "mask = (labels ==8) # cifar10\n",
    "\n",
    "figure(figsize=(15,10), dpi=200)\n",
    "plt.scatter(features[:,0][mask], features[:,1][mask], c=pd.Series(labels[mask]).map(color_list), s=10, alpha=0.9)"
   ]
  },
  {
   "cell_type": "code",
   "execution_count": null,
   "metadata": {},
   "outputs": [],
   "source": [
    "\n",
    "figure(figsize=(15,10), dpi=200)\n",
    "plt.scatter(logits[:,0][mask], logits[:,1][mask], c=pd.Series(labels[mask]).map(color_list), s=10, alpha=0.9)"
   ]
  },
  {
   "cell_type": "code",
   "execution_count": null,
   "metadata": {},
   "outputs": [],
   "source": [
    "files = ['ResNet18_32x32-cifar10-cifar100', 'ResNet18_32x32-cifar10-fashionmnist', 'ResNet18_32x32-cifar10-mnist', 'ResNet18_32x32-cifar10-svhn', 'ResNet18_32x32-cifar10-tin']\n",
    "\n",
    "data_list = []\n",
    "for file in files:\n",
    "    data_list.append(np.load('../features/'+file+'.npz'))\n",
    "\n",
    "roc, pr_in, pr_out = [], [], []\n",
    "for data in data_list:\n",
    "    roc.append(metrics.RocCurveDisplay(fpr=data['fpr'], tpr=data['tpr']))\n",
    "\n",
    "for data in data_list:\n",
    "    pr_in.append(metrics.PrecisionRecallDisplay(precision=data['precision_in'], recall=data['recall_in']))\n",
    "\n",
    "for data in data_list:\n",
    "    pr_out.append(metrics.PrecisionRecallDisplay(precision=data['precision_out'], recall=data['recall_out']))"
   ]
  },
  {
   "cell_type": "code",
   "execution_count": null,
   "metadata": {},
   "outputs": [],
   "source": [
    "fig, ax = plt.subplots(figsize=(15,10), dpi=400)\n",
    "for i, disp in enumerate(roc):\n",
    "    label = files[i].split('-')[-2:]\n",
    "    disp.plot(ax=ax, label=f'roc-{label[0]}-{label[1]}')\n",
    "\n",
    "ax.legend()\n",
    "plt.show()"
   ]
  },
  {
   "cell_type": "code",
   "execution_count": null,
   "metadata": {},
   "outputs": [],
   "source": [
    "fig, ax = plt.subplots(figsize=(15,10), dpi=400)\n",
    "for i, disp in enumerate(pr_in):\n",
    "    label = files[i].split('-')[-2:]\n",
    "    disp.plot(ax=ax, label=f'pr_in-{label[0]}-{label[1]}')\n",
    "\n",
    "ax.legend()\n",
    "plt.show()"
   ]
  },
  {
   "cell_type": "code",
   "execution_count": null,
   "metadata": {},
   "outputs": [],
   "source": [
    "fig, ax = plt.subplots(figsize=(15,10), dpi=400)\n",
    "for i, disp in enumerate(pr_out):\n",
    "    label = files[i].split('-')[-2:]\n",
    "    disp.plot(ax=ax, label=f'pr_out-{label[0]}-{label[1]}')\n",
    "\n",
    "ax.legend()\n",
    "plt.show()"
   ]
  },
  {
   "cell_type": "code",
   "execution_count": null,
   "metadata": {},
   "outputs": [],
   "source": []
  }
 ],
 "metadata": {
  "kernelspec": {
   "display_name": "Python 3 (ipykernel)",
   "language": "python",
   "name": "python3"
  },
  "language_info": {
   "codemirror_mode": {
    "name": "ipython",
    "version": 3
   },
   "file_extension": ".py",
   "mimetype": "text/x-python",
   "name": "python",
   "nbconvert_exporter": "python",
   "pygments_lexer": "ipython3",
   "version": "3.8.10"
  },
  "vscode": {
   "interpreter": {
    "hash": "f4fb05cdd838f445cf6aef1944aad962ac294a3d82898bb62972bc780378e8f5"
   }
  }
 },
 "nbformat": 4,
 "nbformat_minor": 2
}
