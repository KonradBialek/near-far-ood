{
 "cells": [
  {
   "cell_type": "code",
   "execution_count": 5,
   "metadata": {},
   "outputs": [],
   "source": [
    "import pandas as pd\n",
    "\n",
    "\n",
    "df = pd.read_csv('../features/ood__.csv',delimiter=',')"
   ]
  },
  {
   "cell_type": "code",
   "execution_count": 6,
   "metadata": {},
   "outputs": [
    {
     "data": {
      "text/plain": [
       "base         object\n",
       "FPR@95      float64\n",
       "AUROC       float64\n",
       "AUPR_IN     float64\n",
       "AUPR_OUT    float64\n",
       "CCR_4       float64\n",
       "CCR_3       float64\n",
       "CCR_2       float64\n",
       "CCR_1       float64\n",
       "ACC         float64\n",
       "ERROR       float64\n",
       "DELTA       float64\n",
       "dtype: object"
      ]
     },
     "execution_count": 6,
     "metadata": {},
     "output_type": "execute_result"
    }
   ],
   "source": [
    "df.dtypes\n"
   ]
  },
  {
   "cell_type": "code",
   "execution_count": 7,
   "metadata": {},
   "outputs": [],
   "source": [
    "df['base'] = df['base'].str.split('-').str[-1]\n",
    "df['base'].mask(df['base'] == 'cifar100', 'CIFAR-100', inplace=True)\n",
    "df['base'].mask(df['base'] == 'dtd', 'Textures', inplace=True)\n",
    "df['base'].mask(df['base'] == 'svhn', 'SVHN', inplace=True)\n",
    "df['base'].mask(df['base'] == 'tin', 'Tiny Imagenet', inplace=True)\n",
    "df['base'].mask(df['base'] == 'mnist', 'MNIST', inplace=True)\n",
    "df['base'].mask(df['base'] == 'fashionmnist', 'FashionMNIST', inplace=True)\n",
    "df['base'].mask(df['base'] == 'notmnist', 'NOTMNIST', inplace=True)\n",
    "df['base'].mask(df['base'] == 'places365', 'Places365', inplace=True)\n",
    "df['base'].mask(df['base'] == 'near', 'Near-OOD', inplace=True)\n",
    "df['base'].mask(df['base'] == 'far', 'Far-OOD', inplace=True)\n",
    "# df['base'].mask(df['base'] == 'mean', 'średnia', inplace=True)\n",
    "df['base'].mask(df['base'] == 'cifar10', 'CIFAR-10', inplace=True)\n"
   ]
  },
  {
   "cell_type": "code",
   "execution_count": 8,
   "metadata": {},
   "outputs": [],
   "source": [
    "headers = ['base','FPR@95','AUROC','AUPR IN','AUPR OUT','CCR 4','CCR 3','CCR 2','CCR 1','ACC','ERROR','DELTA']\n",
    "# headers = ['base','FPR@95','AUROC','AUPR_IN','AUPR_OUT','CCR_4','CCR_3','CCR_2','CCR_1','ACC','ERROR','DELTA']\n",
    "# df.iloc[:len(df)//2] .to_csv('../features/oodp1.csv', float_format='%.6f', index=False, header=headers)\n",
    "# df.iloc[len(df)//2:] .to_csv('../features/oodp2.csv', float_format='%.6f', index=False, header=headers)\n",
    "df.to_csv('../features/ood__2.csv', index=False, header=headers)\n",
    "# df.to_csv('../features/ood__.csv', index=False, header=headers)"
   ]
  },
  {
   "cell_type": "code",
   "execution_count": null,
   "metadata": {},
   "outputs": [],
   "source": []
  }
 ],
 "metadata": {
  "kernelspec": {
   "display_name": "Python 3",
   "language": "python",
   "name": "python3"
  },
  "language_info": {
   "codemirror_mode": {
    "name": "ipython",
    "version": 3
   },
   "file_extension": ".py",
   "mimetype": "text/x-python",
   "name": "python",
   "nbconvert_exporter": "python",
   "pygments_lexer": "ipython3",
   "version": "3.8.10"
  },
  "orig_nbformat": 4,
  "vscode": {
   "interpreter": {
    "hash": "f4fb05cdd838f445cf6aef1944aad962ac294a3d82898bb62972bc780378e8f5"
   }
  }
 },
 "nbformat": 4,
 "nbformat_minor": 2
}
