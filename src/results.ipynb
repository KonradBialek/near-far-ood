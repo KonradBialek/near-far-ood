{
 "cells": [
  {
   "cell_type": "code",
   "execution_count": null,
   "metadata": {},
   "outputs": [],
   "source": [
    "import matplotlib.pyplot as plt\n",
    "import csv\n",
    "\n",
    "import numpy as np\n",
    "import pandas as pd\n",
    "  \n",
    "x, y = [], []\n",
    "labels = ['FPR@95','AUROC','AUPR-IN','AUPR-OUT','CCR 4','CCR 3','CCR 2','CCR 1','dokładności','błędu','progu decyzji']\n",
    "labels_ = ['FPR@95','AUROC','AUPR-IN','AUPR-OUT','CCR 4','CCR 3','CCR 2','CCR 1','dokładność','błąd','próg decyzji']\n",
    "methods = ['MSP', 'MLS', 'ReAct', 'KNN', 'LOF', 'MDS', 'MDS bez IP', 'ODIN', 'ODIN bez IP']\n",
    "ood_datasets = ['CIFAR-100', 'Tiny ImageNet', 'Places365', 'Textures', 'SVHN', 'MNIST', 'FashionMNIST', 'NOTMNIST', 'Near-OOD', 'Far-OOD', 'średnia']\n",
    "\n",
    "with open('../features/ood2.csv','r') as csvfile:\n",
    "    next(csvfile)\n",
    "    plots = csv.reader(csvfile, delimiter = ',')\n",
    "      \n",
    "    for row in plots:\n",
    "        x.append(row[0])\n",
    "        y.append([float(z) for z in row[1:]])\n",
    "\n",
    "y, x = np.array(y), np.array(x)\n",
    "plots = 4\n",
    "if plots%2 == 0:\n",
    "    fig, ax = plt.subplots(plots//2, plots//2)\n",
    "else:\n",
    "    fig, ax = plt.subplots(1, plots)\n",
    "if plots == 1:\n",
    "    ax = [ax]\n",
    "    \n",
    "offset = 0\n",
    "x_axis = np.arange(len(ood_datasets))\n",
    "for j in range(offset, plots + offset):\n",
    "    mask = (np.arange(y.shape[0]) >=99)\n",
    "    x_ = [x for x, m in zip(x, mask) if m]\n",
    "    x_ = np.array([x_[i:i+11] for i in range(0, len(x_), 11)])\n",
    "    mask = (np.arange(y.shape[0]) >=99)\n",
    "    y__ = [x for x, m in zip(y[:,j], mask) if m]\n",
    "    y__ = np.array([y__[i:i+11] for i in range(0, len(y__), 11)])\n",
    "    df = pd.DataFrame(np.transpose(y__), columns=methods, index=x_[0])\n",
    "    if plots%2 ==0:\n",
    "        if j-offset == 2:\n",
    "            df.plot.barh(figsize=(15,25), ax=ax[(j-offset)//2][(j-offset)%2], xlabel=labels_[j], sharey=True, grid=True, \n",
    "                         xlim=[20,100], title=f'Zależność {labels[j]} od zbioru OOD dla {\"CIFAR-10\" if mask[0] else \"MNIST\"} jako zbioru ID.').legend(loc='upper left')\n",
    "        else:\n",
    "            df.plot.barh(figsize=(15,25), ax=ax[(j-offset)//2][(j-offset)%2], xlabel=labels_[j], sharey=True, grid=True, legend=False, \n",
    "                         xlim=[0,100] if j-offset == 0 else [20,100], title=f'Zależność {labels[j]} od zbioru OOD dla {\"CIFAR-10\" if mask[0] else \"MNIST\"} jako zbioru ID.')\n",
    "    else:\n",
    "        if j-offset == 2:\n",
    "            df.plot.barh(figsize=(15,10), ax=ax[j-offset], xlabel=labels_[j], sharey=True, grid=True, \n",
    "                         xlim=[-40,10], title=f'''Zależność {labels[j]} od zbioru \n",
    "OOD dla {\"CIFAR-10\" if mask[0] else \"MNIST\"} jako zbioru ID.''').legend(loc='upper left', fontsize='10')\n",
    "        else:\n",
    "            df.plot.barh(figsize=(15,10), ax=ax[j-offset], xlabel=labels_[j], sharey=True, grid=True, legend=False, \n",
    "                         xlim=[50,100] if j-offset == 0 else [0, 35], title=f'''Zależność {labels[j]} od zbioru \n",
    "OOD dla {\"CIFAR-10\" if mask[0] else \"MNIST\"} jako zbioru ID.''')\n"
   ]
  },
  {
   "cell_type": "code",
   "execution_count": null,
   "metadata": {},
   "outputs": [],
   "source": []
  }
 ],
 "metadata": {
  "kernelspec": {
   "display_name": "Python 3 (ipykernel)",
   "language": "python",
   "name": "python3"
  },
  "language_info": {
   "codemirror_mode": {
    "name": "ipython",
    "version": 3
   },
   "file_extension": ".py",
   "mimetype": "text/x-python",
   "name": "python",
   "nbconvert_exporter": "python",
   "pygments_lexer": "ipython3",
   "version": "3.8.10"
  },
  "vscode": {
   "interpreter": {
    "hash": "f4fb05cdd838f445cf6aef1944aad962ac294a3d82898bb62972bc780378e8f5"
   }
  }
 },
 "nbformat": 4,
 "nbformat_minor": 2
}
